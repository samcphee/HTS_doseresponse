{
  "nbformat": 4,
  "nbformat_minor": 0,
  "metadata": {
    "colab": {
      "provenance": []
    },
    "kernelspec": {
      "name": "python3",
      "display_name": "Python 3"
    },
    "language_info": {
      "name": "python"
    }
  },
  "cells": [
    {
      "cell_type": "code",
      "source": [
        "from google.colab import files\n",
        "!pip install HTS-doseresponse\n",
        "from HTS_doseresponse import *"
      ],
      "metadata": {
        "id": "-7Gy-8anx2H5"
      },
      "execution_count": null,
      "outputs": []
    },
    {
      "cell_type": "code",
      "execution_count": null,
      "metadata": {
        "id": "e2DXJUVTwoSv",
        "cellView": "form"
      },
      "outputs": [],
      "source": [
        "#@title Use example data or upload CSV results file\n",
        "# @markdown Leave unchecked for upload prompt\n",
        "use_example_data = True #@param {type:\"boolean\"}\n",
        "if use_example_data == True:\n",
        "  input_filename = \"example_data.csv\"\n",
        "  df = pd.read_csv(fetch_example_data(input_filename), index_col='sample_name')\n",
        "else:\n",
        "  csv_file = files.upload()\n",
        "  input_filename = str(list(csv_file.keys())[0])\n",
        "  df = pd.read_csv(io.BytesIO(csv_file[input_filename]),index_col='sample_name')\n"
      ]
    },
    {
      "cell_type": "code",
      "source": [
        "#@title Preview uploaded file\n",
        "df"
      ],
      "metadata": {
        "id": "fP5fPNU6y6Wo",
        "cellView": "form"
      },
      "execution_count": null,
      "outputs": []
    },
    {
      "cell_type": "code",
      "source": [
        "# @title Process data\n",
        "df = process_doseresponse_df(df)"
      ],
      "metadata": {
        "id": "Qz2bIrUX6jAU",
        "cellView": "form"
      },
      "execution_count": null,
      "outputs": []
    },
    {
      "cell_type": "code",
      "source": [
        "# @title Swarm plot of results\n",
        "f = swarmplot_IC50results(df)"
      ],
      "metadata": {
        "cellView": "form",
        "id": "zdBI_W8vrhlT"
      },
      "execution_count": null,
      "outputs": []
    },
    {
      "cell_type": "code",
      "source": [
        "# @title Process file for output into a results schema\n",
        "# @markdown Download starts automatically - if there are issues check ad-blocker\n",
        "df = results_schema_output(df)\n",
        "output_filename = out_filename(input_filename)\n",
        "df.to_csv(output_filename)\n",
        "files.download(output_filename)"
      ],
      "metadata": {
        "colab": {
          "base_uri": "https://localhost:8080/",
          "height": 17
        },
        "cellView": "form",
        "id": "SBQd47-Drd7h",
        "outputId": "761086ad-7339-4a01-fa13-64a6f2d7e9ed"
      },
      "execution_count": null,
      "outputs": [
        {
          "output_type": "display_data",
          "data": {
            "text/plain": [
              "<IPython.core.display.Javascript object>"
            ],
            "application/javascript": [
              "\n",
              "    async function download(id, filename, size) {\n",
              "      if (!google.colab.kernel.accessAllowed) {\n",
              "        return;\n",
              "      }\n",
              "      const div = document.createElement('div');\n",
              "      const label = document.createElement('label');\n",
              "      label.textContent = `Downloading \"${filename}\": `;\n",
              "      div.appendChild(label);\n",
              "      const progress = document.createElement('progress');\n",
              "      progress.max = size;\n",
              "      div.appendChild(progress);\n",
              "      document.body.appendChild(div);\n",
              "\n",
              "      const buffers = [];\n",
              "      let downloaded = 0;\n",
              "\n",
              "      const channel = await google.colab.kernel.comms.open(id);\n",
              "      // Send a message to notify the kernel that we're ready.\n",
              "      channel.send({})\n",
              "\n",
              "      for await (const message of channel.messages) {\n",
              "        // Send a message to notify the kernel that we're ready.\n",
              "        channel.send({})\n",
              "        if (message.buffers) {\n",
              "          for (const buffer of message.buffers) {\n",
              "            buffers.push(buffer);\n",
              "            downloaded += buffer.byteLength;\n",
              "            progress.value = downloaded;\n",
              "          }\n",
              "        }\n",
              "      }\n",
              "      const blob = new Blob(buffers, {type: 'application/binary'});\n",
              "      const a = document.createElement('a');\n",
              "      a.href = window.URL.createObjectURL(blob);\n",
              "      a.download = filename;\n",
              "      div.appendChild(a);\n",
              "      a.click();\n",
              "      div.remove();\n",
              "    }\n",
              "  "
            ]
          },
          "metadata": {}
        },
        {
          "output_type": "display_data",
          "data": {
            "text/plain": [
              "<IPython.core.display.Javascript object>"
            ],
            "application/javascript": [
              "download(\"download_5226fb06-2230-43cb-a6c8-b6c738ce44f5\", \"data_negative_trunc_processed_data.csv\", 9057)"
            ]
          },
          "metadata": {}
        }
      ]
    }
  ]
}